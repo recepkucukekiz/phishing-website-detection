{
 "cells": [
  {
   "cell_type": "code",
   "execution_count": 7,
   "metadata": {},
   "outputs": [],
   "source": [
    "from URLfeature import *\n",
    "import pickle\n",
    "import numpy as np"
   ]
  },
  {
   "cell_type": "code",
   "execution_count": 2,
   "metadata": {},
   "outputs": [],
   "source": [
    "def extract(test_url):\n",
    "    feature_result = []\n",
    "    test_domain = getDomain(test_url)\n",
    "\n",
    "    feature_result.append(havingIP(test_url))\n",
    "    feature_result.append(getLength(test_domain))\n",
    "    feature_result.append(tinyURL(test_url))\n",
    "    feature_result.append(redirection(test_url))\n",
    "    feature_result.append(httpDomain(test_url))\n",
    "    feature_result.append(web_traffic(test_url))\n",
    "    feature_result.append(ServerFormHandler(test_url))\n",
    "    feature_result.append(UsingPopupWindow(test_url))\n",
    "    feature_result.append(domainAge(test_domain))\n",
    "    feature_result.append(domainEnd(test_domain))\n",
    "    feature_result.append(NonStdPort(test_domain))\n",
    "    feature_result.append(forwarding(test_url))\n",
    "    feature_result.append(rightClick(test_url))\n",
    "\n",
    "    return feature_result"
   ]
  },
  {
   "cell_type": "code",
   "execution_count": 3,
   "metadata": {},
   "outputs": [],
   "source": [
    "model = pickle.load(open(\"XGBV2.pickle.dat\", \"rb\"))"
   ]
  },
  {
   "cell_type": "code",
   "execution_count": 12,
   "metadata": {},
   "outputs": [],
   "source": [
    "url = \"\thttp://www.bitkubth.net\""
   ]
  },
  {
   "cell_type": "code",
   "execution_count": 13,
   "metadata": {},
   "outputs": [
    {
     "data": {
      "text/plain": [
       "array([0])"
      ]
     },
     "execution_count": 13,
     "metadata": {},
     "output_type": "execute_result"
    }
   ],
   "source": [
    "model.predict(np.array([extract(url)])) # 1 is legit"
   ]
  }
 ],
 "metadata": {
  "kernelspec": {
   "display_name": "Python 3.9.13 ('datascience')",
   "language": "python",
   "name": "python3"
  },
  "language_info": {
   "codemirror_mode": {
    "name": "ipython",
    "version": 3
   },
   "file_extension": ".py",
   "mimetype": "text/x-python",
   "name": "python",
   "nbconvert_exporter": "python",
   "pygments_lexer": "ipython3",
   "version": "3.9.13"
  },
  "orig_nbformat": 4,
  "vscode": {
   "interpreter": {
    "hash": "431952e8195d73cd39404705109eaefd639dd3fb8d4e9cb1f35f6f6a5f324ad3"
   }
  }
 },
 "nbformat": 4,
 "nbformat_minor": 2
}

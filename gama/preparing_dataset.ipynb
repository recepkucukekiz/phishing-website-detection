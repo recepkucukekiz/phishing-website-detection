{
 "cells": [
  {
   "cell_type": "code",
   "execution_count": 1,
   "metadata": {},
   "outputs": [],
   "source": [
    "import pandas as pd\n",
    "import numpy as np\n",
    "from URLfeature import *"
   ]
  },
  {
   "cell_type": "code",
   "execution_count": 2,
   "metadata": {},
   "outputs": [
    {
     "data": {
      "text/html": [
       "<div>\n",
       "<style scoped>\n",
       "    .dataframe tbody tr th:only-of-type {\n",
       "        vertical-align: middle;\n",
       "    }\n",
       "\n",
       "    .dataframe tbody tr th {\n",
       "        vertical-align: top;\n",
       "    }\n",
       "\n",
       "    .dataframe thead th {\n",
       "        text-align: right;\n",
       "    }\n",
       "</style>\n",
       "<table border=\"1\" class=\"dataframe\">\n",
       "  <thead>\n",
       "    <tr style=\"text-align: right;\">\n",
       "      <th></th>\n",
       "      <th>Labels</th>\n",
       "      <th>URLs</th>\n",
       "    </tr>\n",
       "  </thead>\n",
       "  <tbody>\n",
       "    <tr>\n",
       "      <th>0</th>\n",
       "      <td>1</td>\n",
       "      <td>http://dbs.vote-friend.com/sg?ref=anything</td>\n",
       "    </tr>\n",
       "    <tr>\n",
       "      <th>1</th>\n",
       "      <td>0</td>\n",
       "      <td>https://www.reynoldstransfer.com/versa-lift-fo...</td>\n",
       "    </tr>\n",
       "    <tr>\n",
       "      <th>2</th>\n",
       "      <td>1</td>\n",
       "      <td>https://www.halisupportservice.com/Login.php</td>\n",
       "    </tr>\n",
       "    <tr>\n",
       "      <th>3</th>\n",
       "      <td>0</td>\n",
       "      <td>https://www.signets.com.br/wp-includes/wlwmani...</td>\n",
       "    </tr>\n",
       "    <tr>\n",
       "      <th>4</th>\n",
       "      <td>1</td>\n",
       "      <td>https://docs.google.com/document/d/e/2PACX-1vT...</td>\n",
       "    </tr>\n",
       "  </tbody>\n",
       "</table>\n",
       "</div>"
      ],
      "text/plain": [
       "   Labels                                               URLs\n",
       "0       1         http://dbs.vote-friend.com/sg?ref=anything\n",
       "1       0  https://www.reynoldstransfer.com/versa-lift-fo...\n",
       "2       1       https://www.halisupportservice.com/Login.php\n",
       "3       0  https://www.signets.com.br/wp-includes/wlwmani...\n",
       "4       1  https://docs.google.com/document/d/e/2PACX-1vT..."
      ]
     },
     "execution_count": 2,
     "metadata": {},
     "output_type": "execute_result"
    }
   ],
   "source": [
    "raw_data = pd.read_excel('data-20000.xlsx')\n",
    "raw_data.head()"
   ]
  },
  {
   "cell_type": "code",
   "execution_count": 3,
   "metadata": {},
   "outputs": [],
   "source": [
    "phishing = raw_data.drop(raw_data[raw_data.Labels == 0 ].index)\n",
    "legitmate = raw_data.drop(raw_data[raw_data.Labels == 1 ].index)"
   ]
  },
  {
   "cell_type": "code",
   "execution_count": 4,
   "metadata": {},
   "outputs": [],
   "source": [
    "def extract(test_url):\n",
    "    feature_result = []\n",
    "    test_domain = getDomain(test_url)\n",
    "\n",
    "    feature_result.append(test_url)\n",
    "    feature_result.append(test_domain)\n",
    "\n",
    "    feature_result.append(havingIP(test_url))\n",
    "    feature_result.append(getLength(test_domain))\n",
    "    feature_result.append(tinyURL(test_url))\n",
    "    feature_result.append(redirection(test_url))\n",
    "    feature_result.append(httpDomain(test_url))\n",
    "    feature_result.append(web_traffic(test_url))\n",
    "    feature_result.append(ServerFormHandler(test_url))\n",
    "    feature_result.append(UsingPopupWindow(test_url))\n",
    "    feature_result.append(domainAge(test_domain))\n",
    "    feature_result.append(domainEnd(test_domain))\n",
    "    feature_result.append(NonStdPort(test_domain))\n",
    "    feature_result.append(forwarding(test_url))\n",
    "    feature_result.append(rightClick(test_url))\n",
    "\n",
    "    return feature_result"
   ]
  },
  {
   "cell_type": "code",
   "execution_count": 5,
   "metadata": {},
   "outputs": [],
   "source": [
    "from joblib import Parallel, delayed\n",
    "import multiprocessing\n",
    "num_cores = multiprocessing.cpu_count()"
   ]
  },
  {
   "cell_type": "code",
   "execution_count": 6,
   "metadata": {},
   "outputs": [],
   "source": [
    "test_urls = phishing['URLs'].array\n",
    "\n",
    "def extract_url(index):\n",
    "    return extract(test_urls[index])\n",
    "\n",
    "# inputs = range(len(test_urls))\n",
    "inputs = range(500)\n",
    "results = Parallel(n_jobs=num_cores)(delayed(extract_url)(index) for index in inputs)"
   ]
  },
  {
   "cell_type": "code",
   "execution_count": 7,
   "metadata": {},
   "outputs": [],
   "source": [
    "# test_urls = phishing['URLs']\n",
    "# results = []\n",
    "# counter = 0\n",
    "# for url in test_urls[:20]:\n",
    "#     print(counter)\n",
    "#     results.append(extract(url))\n",
    "#     counter += 1"
   ]
  },
  {
   "cell_type": "code",
   "execution_count": 8,
   "metadata": {},
   "outputs": [],
   "source": [
    "df = pd.DataFrame(results, columns=[\"url\",\"domain\",\"havingIP\",\"getLength\",\"tinyURL\",\"redirection\",\n",
    "                                    \"httpDomain\",\"web_traffic\",\"ServerFormHandler\",\"UsingPopupWindow\",\n",
    "                                    \"domainAge\",\"domainEnd\",\"NonStdPort\",\"forwarding\",\"rightClick\"])\n",
    "df.to_csv(\"phish.csv\")"
   ]
  },
  {
   "cell_type": "code",
   "execution_count": 9,
   "metadata": {},
   "outputs": [],
   "source": [
    "test_urls1 = legitmate['URLs'].array\n",
    "\n",
    "def extract_url1(index):\n",
    "    return extract(test_urls1[index])\n",
    "\n",
    "# inputs1 = range(len(test_urls1))\n",
    "inputs1 = range(500)\n",
    "results1 = Parallel(n_jobs=num_cores)(delayed(extract_url1)(index) for index in inputs1)"
   ]
  },
  {
   "cell_type": "code",
   "execution_count": 10,
   "metadata": {},
   "outputs": [],
   "source": [
    "# test_urls1 = legitmate['URLs']\n",
    "# results1 = []\n",
    "# counter1 = 0\n",
    "# for url in test_urls1:\n",
    "#     print(counter1)\n",
    "#     results1.append(extract(url))\n",
    "#     counter1 += 1"
   ]
  },
  {
   "cell_type": "code",
   "execution_count": 11,
   "metadata": {},
   "outputs": [],
   "source": [
    "df1 = pd.DataFrame(results1, columns=[\"url\",\"domain\",\"havingIP\",\"getLength\",\"tinyURL\",\"redirection\",\n",
    "                                    \"httpDomain\",\"web_traffic\",\"ServerFormHandler\",\"UsingPopupWindow\",\n",
    "                                    \"domainAge\",\"domainEnd\",\"NonStdPort\",\"forwarding\",\"rightClick\"])\n",
    "df1.to_csv(\"legit.csv\")"
   ]
  }
 ],
 "metadata": {
  "kernelspec": {
   "display_name": "Python 3.9.13 ('datascience')",
   "language": "python",
   "name": "python3"
  },
  "language_info": {
   "codemirror_mode": {
    "name": "ipython",
    "version": 3
   },
   "file_extension": ".py",
   "mimetype": "text/x-python",
   "name": "python",
   "nbconvert_exporter": "python",
   "pygments_lexer": "ipython3",
   "version": "3.9.13"
  },
  "orig_nbformat": 4,
  "vscode": {
   "interpreter": {
    "hash": "431952e8195d73cd39404705109eaefd639dd3fb8d4e9cb1f35f6f6a5f324ad3"
   }
  }
 },
 "nbformat": 4,
 "nbformat_minor": 2
}
